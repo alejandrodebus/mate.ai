{
 "cells": [
  {
   "cell_type": "markdown",
   "metadata": {},
   "source": [
    "## Pub 1 - Escalares, Vectores, Matrices y Tensores"
   ]
  },
  {
   "cell_type": "code",
   "execution_count": null,
   "metadata": {},
   "outputs": [],
   "source": [
    "import numpy as np"
   ]
  },
  {
   "cell_type": "markdown",
   "metadata": {},
   "source": [
    "## Escalares"
   ]
  },
  {
   "cell_type": "code",
   "execution_count": null,
   "metadata": {
    "scrolled": true
   },
   "outputs": [],
   "source": [
    "# Ejemplo 1: Experimentando con escalares\n",
    "\n",
    "a = 2\n",
    "b = 4.8\n",
    "c = 7.435\n",
    "\n",
    "print(a)\n",
    "print(b)\n",
    "print(c)\n",
    "\n",
    "print(a + b)\n",
    "print(b - c)\n",
    "print(b * a)\n",
    "print(c / b)\n",
    "print(c // b)"
   ]
  },
  {
   "cell_type": "markdown",
   "metadata": {},
   "source": [
    "## Vectores"
   ]
  },
  {
   "cell_type": "code",
   "execution_count": null,
   "metadata": {},
   "outputs": [],
   "source": [
    "# Ejemplo 2: Crear un vector de 5 componentes\n",
    "\n",
    "v1 = np.array([8, 0, 3, 1, 5])\n",
    "print(v1)"
   ]
  },
  {
   "cell_type": "code",
   "execution_count": null,
   "metadata": {},
   "outputs": [],
   "source": [
    "# Ejemplo 3: Obtener la dimension del vector v1\n",
    "\n",
    "v = np.random.rand(100)\n",
    "dim_v = v.shape\n",
    "print(dim_v)"
   ]
  },
  {
   "cell_type": "code",
   "execution_count": null,
   "metadata": {},
   "outputs": [],
   "source": [
    "# Ejemplo 4: Multiplicacion de v1 por un escalar (recordar la propiedad de broadcasting)\n",
    "\n",
    "scalar_b = 2.0\n",
    "v2 = v1 * scalar_b\n",
    "print(v2)"
   ]
  },
  {
   "cell_type": "code",
   "execution_count": null,
   "metadata": {},
   "outputs": [],
   "source": [
    "# Ejemplo 5: Producto escalar\n",
    "\n",
    "v1 = np.array([1, 5, -2, 7, 3])\n",
    "v2 = np.array([3, 1, 1, -5, -1])\n",
    "\n",
    "print(np.dot(v1, v2))"
   ]
  },
  {
   "cell_type": "code",
   "execution_count": null,
   "metadata": {},
   "outputs": [],
   "source": [
    "# Ejemplo 6: Sumar los vectores v1 y v2, creados en los ejemplos 1 y 3 respectivamente\n",
    "\n",
    "v1 = np.array([6, 0, -3, 7])\n",
    "v2 = np.array([2, 3, 7, -5])\n",
    "v3 = np.array([0.1, 5, 0.89, 5])\n",
    "print(v1 + v2 + v3)"
   ]
  },
  {
   "cell_type": "markdown",
   "metadata": {},
   "source": [
    "## Matrices"
   ]
  },
  {
   "cell_type": "code",
   "execution_count": null,
   "metadata": {},
   "outputs": [],
   "source": [
    "# Ejemplo 7: Crear una matriz de 2x3 y consultar su tamaño.\n",
    "A = np.array([[5, 4, 7],\n",
    "              [3, 8, 1]])\n",
    "print(A.shape)"
   ]
  },
  {
   "cell_type": "code",
   "execution_count": null,
   "metadata": {},
   "outputs": [],
   "source": [
    "# Ejemplo 8: Crear 2 matrices de valores enteros y sumarlas.\n",
    "\n",
    "A = np.array([[5, 4, 7],\n",
    "              [3, 6, 1]])\n",
    "\n",
    "B = np.array([[1, 0, 2],\n",
    "              [4, 3, 3]])\n",
    "\n",
    "print(A + B)"
   ]
  },
  {
   "cell_type": "code",
   "execution_count": null,
   "metadata": {},
   "outputs": [],
   "source": [
    "# Ejemplo 9: Crear una matriz de 2x2 y multiplicarla por un escalar\n",
    "\n",
    "A = np.array([[5, 4],\n",
    "              [3, 6]])\n",
    "escalar = 3\n",
    "print(escalar * A)"
   ]
  },
  {
   "cell_type": "code",
   "execution_count": null,
   "metadata": {},
   "outputs": [],
   "source": [
    "# Ejemplo 10: Crear 2 matrices y multiplicarlas\n",
    "\n",
    "A = np.array([[5, 4, 7],\n",
    "              [3, 6, 1]])\n",
    "\n",
    "B = np.array([[1, 0],\n",
    "              [4, 3],\n",
    "              [9, 2]])\n",
    "\n",
    "print(np.matmul(A, B))"
   ]
  },
  {
   "cell_type": "code",
   "execution_count": null,
   "metadata": {
    "scrolled": true
   },
   "outputs": [],
   "source": [
    "# Ejemplo 11: Crear una matriz de 2x3, hallar su transpuesta y verificar el nuevo tamaño.\n",
    "\n",
    "A = np.array([[5, 4, 7],\n",
    "              [3, 6, 1]])\n",
    "\n",
    "A_t = np.transpose(A)\n",
    "print('A_t: ', A_t)\n",
    "print('Tamaño de A_t: ', A_t.shape)"
   ]
  },
  {
   "cell_type": "markdown",
   "metadata": {},
   "source": [
    "## Tensores"
   ]
  },
  {
   "cell_type": "code",
   "execution_count": null,
   "metadata": {},
   "outputs": [],
   "source": [
    "import matplotlib.pyplot as plt"
   ]
  },
  {
   "cell_type": "code",
   "execution_count": null,
   "metadata": {},
   "outputs": [],
   "source": [
    "np.random.seed(123)\n",
    "A = np.random.randint(256, size=(10,10,3))"
   ]
  },
  {
   "cell_type": "code",
   "execution_count": null,
   "metadata": {
    "scrolled": true
   },
   "outputs": [],
   "source": [
    "plt.imshow(A)"
   ]
  },
  {
   "cell_type": "markdown",
   "metadata": {},
   "source": [
    "## Broadcasting"
   ]
  },
  {
   "cell_type": "code",
   "execution_count": null,
   "metadata": {},
   "outputs": [],
   "source": [
    "M = np.array([[1, 6, 2],\n",
    "              [4, 2, 3],\n",
    "              [1, 4, 2]])\n",
    "\n",
    "v = np.array([5, 2, 1])\n",
    "\n",
    "print(M + v)"
   ]
  }
 ],
 "metadata": {
  "kernelspec": {
   "display_name": "Python 3",
   "language": "python",
   "name": "python3"
  },
  "language_info": {
   "codemirror_mode": {
    "name": "ipython",
    "version": 3
   },
   "file_extension": ".py",
   "mimetype": "text/x-python",
   "name": "python",
   "nbconvert_exporter": "python",
   "pygments_lexer": "ipython3",
   "version": "3.6.5"
  }
 },
 "nbformat": 4,
 "nbformat_minor": 2
}
